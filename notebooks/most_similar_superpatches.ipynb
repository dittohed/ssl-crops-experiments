{
  "cells": [
    {
      "cell_type": "markdown",
      "metadata": {
        "id": "xb-j6qnrsHYq"
      },
      "source": [
        "The aim of this notebook is to calculate and store most similar superpatches\n",
        "so that they can be used further for pretraining.\n",
        "\n",
        "Follow-up to `notebooks/demo_vit.ipynb`."
      ]
    },
    {
      "cell_type": "markdown",
      "metadata": {
        "id": "3eKG8AzdsHYu"
      },
      "source": [
        "# Setup, constants & imports"
      ]
    },
    {
      "cell_type": "code",
      "execution_count": null,
      "metadata": {
        "id": "wIcaC09NsHYw"
      },
      "outputs": [],
      "source": [
        "# TODO: review code"
      ]
    },
    {
      "cell_type": "code",
      "execution_count": null,
      "metadata": {
        "id": "-GoUuH3asHYy"
      },
      "outputs": [],
      "source": [
        "# MODEL = 'vit_base_patch16_224.dino'\n",
        "MODEL = 'vit_tiny_patch16_224.augreg_in21k'  # TODO: switch back to vit_base\n",
        "PATCH_SIZE = 16\n",
        "\n",
        "N_AGG = 8  # N_AGG x N_AGG patches consitute superpatch\n",
        "N_NEAREST = 8  # How many nearest neighbors to save\n",
        "\n",
        "IMG_HEIGHT = 256\n",
        "IMG_WIDTH = 256\n",
        "BATCH_SIZE = 8\n",
        "NUM_WORKERS = 2\n",
        "DATA_DIR = '../data/val2017'\n",
        "VECTORS_PATH = 'vectors_all.npy'  # To store features for all superpatches\n",
        "\n",
        "VIS_N_SUPERPATCHES_TO_SAMPLE = 8  # How many superpatches to sample for visualization\n",
        "VIS_N_SIMILAR = 6  # How many most similar superpatches to show per sampled superpatch\n",
        "\n",
        "# For how many vectors to get sorted nearest neighbors at once in the loop\n",
        "# It depends on the GPU memory and dataset size\n",
        "PROCESS_AT_ONCE = 8"
      ]
    },
    {
      "cell_type": "code",
      "execution_count": null,
      "metadata": {
        "colab": {
          "base_uri": "https://localhost:8080/"
        },
        "id": "bptTgMujsHY2",
        "outputId": "535750bd-42b6-48fe-e7b3-13af0ab073f9"
      },
      "outputs": [],
      "source": [
        "# Run only if using Colab\n",
        "\n",
        "from google.colab import drive\n",
        "drive.mount('/content/drive')\n",
        "\n",
        "! wget http://images.cocodataset.org/zips/train2017.zip\n",
        "! mkdir data\n",
        "! unzip -qq train2017.zip -d data\n",
        "\n",
        "! pip install timm\n",
        "\n",
        "N_NEAREST = 32\n",
        "DATA_DIR = 'data/train2017'\n",
        "VECTORS_PATH = 'drive/My Drive/vectors_all.npy'\n",
        "PROCESS_AT_ONCE = 256"
      ]
    },
    {
      "cell_type": "code",
      "execution_count": null,
      "metadata": {
        "id": "CLMc_byJsHY4"
      },
      "outputs": [],
      "source": [
        "import random\n",
        "import json\n",
        "\n",
        "from pathlib import Path\n",
        "\n",
        "import numpy as np\n",
        "import PIL\n",
        "import cv2\n",
        "import matplotlib.pyplot as plt\n",
        "\n",
        "import torch\n",
        "import torchvision\n",
        "import torchvision.transforms as transforms\n",
        "import timm\n",
        "\n",
        "from sklearn.neighbors import NearestNeighbors\n",
        "from tqdm import tqdm\n",
        "\n",
        "from torch import nn\n",
        "from torch.utils.data import Dataset, DataLoader"
      ]
    },
    {
      "cell_type": "code",
      "execution_count": null,
      "metadata": {
        "id": "pQ1CoS52sHY6"
      },
      "outputs": [],
      "source": [
        "device = torch.device('cuda' if torch.cuda.is_available() else 'cpu')"
      ]
    },
    {
      "cell_type": "markdown",
      "metadata": {
        "id": "HSjND24lsHY7"
      },
      "source": [
        "# Asserts"
      ]
    },
    {
      "cell_type": "code",
      "execution_count": null,
      "metadata": {
        "id": "yiNHoenJsHY9"
      },
      "outputs": [],
      "source": [
        "assert IMG_HEIGHT % PATCH_SIZE == 0\n",
        "assert IMG_WIDTH % PATCH_SIZE == 0\n",
        "assert IMG_HEIGHT % (N_AGG*PATCH_SIZE) == 0\n",
        "assert IMG_WIDTH % (N_AGG*PATCH_SIZE) == 0"
      ]
    },
    {
      "cell_type": "markdown",
      "metadata": {
        "id": "d_IC8KmhsHY_"
      },
      "source": [
        "# Load data"
      ]
    },
    {
      "cell_type": "code",
      "execution_count": null,
      "metadata": {
        "id": "h-L6x4VhsHZA"
      },
      "outputs": [],
      "source": [
        "class ImgsDataset(Dataset):\n",
        "  def __init__(self, paths, transform):\n",
        "    self.paths = paths\n",
        "    self.transform = transform\n",
        "\n",
        "  def __getitem__(self, index):\n",
        "    img = PIL.Image.open(self.paths[index]).convert('RGB')\n",
        "    return self.transform(img)\n",
        "\n",
        "  def __len__(self):\n",
        "    return len(self.paths)"
      ]
    },
    {
      "cell_type": "code",
      "execution_count": null,
      "metadata": {
        "id": "g3TKzPB2sHZB"
      },
      "outputs": [],
      "source": [
        "paths = sorted(Path(DATA_DIR).rglob('*'))\n",
        "paths"
      ]
    },
    {
      "cell_type": "code",
      "execution_count": null,
      "metadata": {
        "id": "4EEQNU6MsHZC"
      },
      "outputs": [],
      "source": [
        "transform = [\n",
        "    transforms.Resize((IMG_HEIGHT, IMG_WIDTH)),\n",
        "    transforms.ToTensor(),\n",
        "    transforms.Normalize(mean=[0.5, 0.5, 0.5],\n",
        "                          std=[0.5, 0.5, 0.5])\n",
        "]\n",
        "\n",
        "ds = ImgsDataset(paths, transforms.Compose(transform))\n",
        "loader = DataLoader(\n",
        "    ds, batch_size=BATCH_SIZE, shuffle=False,\n",
        "    num_workers=NUM_WORKERS, pin_memory=torch.cuda.is_available()\n",
        ")"
      ]
    },
    {
      "cell_type": "code",
      "execution_count": null,
      "metadata": {
        "id": "yY86w4UVsHZD"
      },
      "outputs": [],
      "source": [
        "transform_orig = [\n",
        "    transforms.Resize((IMG_HEIGHT, IMG_WIDTH))\n",
        "]\n",
        "\n",
        "ds_orig = ImgsDataset(paths, transforms.Compose(transform_orig))"
      ]
    },
    {
      "cell_type": "markdown",
      "metadata": {
        "id": "aDrFBgt2sHZE"
      },
      "source": [
        "# Load model"
      ]
    },
    {
      "cell_type": "code",
      "execution_count": null,
      "metadata": {
        "colab": {
          "base_uri": "https://localhost:8080/"
        },
        "id": "ScGRnpkvsHZE",
        "outputId": "5d7dcc8f-1961-43a5-f1a2-e498b9ec5574"
      },
      "outputs": [],
      "source": [
        "timm.list_models('vit_tiny_*', pretrained=True)"
      ]
    },
    {
      "cell_type": "code",
      "execution_count": null,
      "metadata": {
        "colab": {
          "base_uri": "https://localhost:8080/",
          "height": 49,
          "referenced_widgets": [
            "f7cac94876cd40efb356b7c899ad5ef5",
            "e4fa450fe6c64671a6fc8adfe4c9bf7d",
            "d764265cfdf34bf8affa2c202e2500f5",
            "18faff5015f147f0bb488da4a9813d5e",
            "5ace18d235c5447c986f3e8c4aa05436",
            "47851ce16f8c4229960e9555e03f37f9",
            "1417c9765ca74d55a3ad72e94f56f26d",
            "bd4c759ecd594e6b94eee7bb74219cfe",
            "c4fcbbc1019b442fa6aa00a44e78fad1",
            "675d6f964a0541c8a6cb958f73d1d254",
            "cb685b189e194d208041115abf4e6a10"
          ]
        },
        "id": "7A9jTp8hsHZG",
        "outputId": "a5c63b31-4dbb-444b-ff56-0b42af1cbffd"
      },
      "outputs": [],
      "source": [
        "model = timm.create_model(\n",
        "    MODEL,\n",
        "    pretrained=True,\n",
        "    img_size=(IMG_HEIGHT, IMG_WIDTH),\n",
        "    num_classes=0,\n",
        "    global_pool=''\n",
        ").to(device).eval()"
      ]
    },
    {
      "cell_type": "markdown",
      "metadata": {
        "id": "GPbqWr-0sHZH"
      },
      "source": [
        "# Compute vectors"
      ]
    },
    {
      "cell_type": "code",
      "execution_count": null,
      "metadata": {
        "colab": {
          "base_uri": "https://localhost:8080/"
        },
        "id": "u3_yB2eAsHZI",
        "outputId": "0e9d9a52-3f78-45d1-a462-117bf515c70d"
      },
      "outputs": [],
      "source": [
        "vectors_all = []\n",
        "\n",
        "for imgs in tqdm(loader):\n",
        "    with torch.no_grad():\n",
        "        # Skip [CLS] token\n",
        "        vectors = model(imgs.to(device))[:, 1:, :]\n",
        "\n",
        "        # (B, H*W, C) -> (B, H, W, C)\n",
        "        vectors = vectors.view(\n",
        "            vectors.shape[0], IMG_HEIGHT//PATCH_SIZE, IMG_WIDTH//PATCH_SIZE, vectors.shape[2]\n",
        "        )\n",
        "\n",
        "        # (B, H, W, C) -> (B, C, H, W)\n",
        "        vectors = vectors.permute(0, 3, 1, 2)\n",
        "\n",
        "        # Get superpatches representations\n",
        "        vectors = nn.AvgPool2d(N_AGG, count_include_pad=False)(vectors)\n",
        "\n",
        "        # (B, C, H, W) -> (B, H, W, C)\n",
        "        vectors = vectors.permute(0, 2, 3, 1)\n",
        "\n",
        "        # (B, H, W, C) -> (B*H*W, C)\n",
        "        # Get flattened superpatches representations\n",
        "        vectors = vectors.flatten(0, 2)\n",
        "\n",
        "        vectors_all.append(vectors.cpu().squeeze().numpy())\n",
        "\n",
        "del model\n",
        "vectors_all = np.vstack(vectors_all)\n",
        "vectors_all.shape"
      ]
    },
    {
      "cell_type": "code",
      "execution_count": null,
      "metadata": {},
      "outputs": [],
      "source": [
        "np.save(VECTORS_PATH, vectors_all) "
      ]
    },
    {
      "cell_type": "markdown",
      "metadata": {},
      "source": [
        "# Compute nearest neighbors"
      ]
    },
    {
      "cell_type": "code",
      "execution_count": null,
      "metadata": {},
      "outputs": [],
      "source": [
        "vectors_all = np.load(VECTORS_PATH)\n",
        "vectors_all = torch.from_numpy(vectors_all).to(device)  # Move back to GPU if available"
      ]
    },
    {
      "cell_type": "code",
      "execution_count": null,
      "metadata": {},
      "outputs": [],
      "source": [
        "@torch.no_grad()\n",
        "def get_similarities(a, b, eps=1e-8):\n",
        "    norm_a, norm_b = a.norm(dim=1)[:, None], b.norm(dim=1)[:, None]\n",
        "\n",
        "    a_norm = a / torch.max(norm_a, eps*torch.ones_like(norm_a))\n",
        "    b_norm = b / torch.max(norm_b, eps*torch.ones_like(norm_b))\n",
        "\n",
        "    similarities = torch.mm(a_norm, b_norm.transpose(0, 1))\n",
        "\n",
        "    return similarities"
      ]
    },
    {
      "cell_type": "code",
      "execution_count": null,
      "metadata": {},
      "outputs": [],
      "source": [
        "nns_dict = {}\n",
        "\n",
        "n_iters = vectors_all.shape[0] // PROCESS_AT_ONCE + 1\n",
        "for iter_idx in tqdm(range(n_iters)):\n",
        "    start_idx = int(iter_idx*PROCESS_AT_ONCE)\n",
        "    end_idx = int(min(start_idx+PROCESS_AT_ONCE, vectors_all.shape[0]))\n",
        "\n",
        "    similarities = get_similarities(\n",
        "        vectors_all[start_idx : end_idx], vectors_all\n",
        "    )\n",
        "\n",
        "    most_similar = torch.argsort(\n",
        "        similarities, dim=1, descending=True\n",
        "    )[:, :N_NEAREST].cpu().tolist()  # `1:N_NEAREST+1` to skip identical crop\n",
        "\n",
        "    for i in range(len(most_similar)):\n",
        "        nns_dict[start_idx+i] = most_similar[i]\n",
        "\n",
        "with open('nns.json', 'w') as f:\n",
        "    json.dump(nns_dict, f)"
      ]
    },
    {
      "cell_type": "markdown",
      "metadata": {
        "id": "sjMZjtt7sHZK"
      },
      "source": [
        "# Visualize results"
      ]
    },
    {
      "cell_type": "code",
      "execution_count": null,
      "metadata": {
        "id": "7J23XesfsHZK"
      },
      "outputs": [],
      "source": [
        "with open('nns.json', 'r') as f:\n",
        "    nns_dict = json.load(\n",
        "        f,\n",
        "        # Convert keys to integers during loading\n",
        "        object_pairs_hook=lambda x: {int(k): v for k, v in x}\n",
        "    )"
      ]
    },
    {
      "cell_type": "code",
      "execution_count": null,
      "metadata": {
        "id": "voh6BrhisHZL"
      },
      "outputs": [],
      "source": [
        "def overlay_superpatch_by_index(superpatch_idx):\n",
        "    n_superpatch_cols_per_img = IMG_WIDTH // PATCH_SIZE // N_AGG\n",
        "    n_superpatch_rows_per_img = IMG_HEIGHT // PATCH_SIZE // N_AGG\n",
        "    n_superpatchs_per_img = n_superpatch_cols_per_img * n_superpatch_rows_per_img\n",
        "\n",
        "    img_idx = superpatch_idx // n_superpatchs_per_img\n",
        "    local_superpatch_idx = superpatch_idx % n_superpatchs_per_img\n",
        "    superpatch_row_idx = local_superpatch_idx // n_superpatch_cols_per_img\n",
        "    superpatch_col_idx = local_superpatch_idx % n_superpatch_cols_per_img\n",
        "\n",
        "    y_upper = superpatch_row_idx * PATCH_SIZE * N_AGG\n",
        "    x_upper = superpatch_col_idx * PATCH_SIZE * N_AGG\n",
        "    y_lower = (superpatch_row_idx+1) * PATCH_SIZE * N_AGG\n",
        "    x_lower = (superpatch_col_idx+1) * PATCH_SIZE * N_AGG\n",
        "\n",
        "    img_w_crop = np.copy(ds_orig[img_idx])\n",
        "    cv2.rectangle(\n",
        "        img_w_crop,\n",
        "        (x_upper, y_upper),\n",
        "        (x_lower, y_lower),\n",
        "        (0, 255, 0)\n",
        "    )\n",
        "\n",
        "    return img_w_crop"
      ]
    },
    {
      "cell_type": "code",
      "execution_count": null,
      "metadata": {
        "colab": {
          "base_uri": "https://localhost:8080/",
          "height": 1000
        },
        "id": "r9yKChn-sHZM",
        "outputId": "26319428-4a25-4532-875e-d19d63aff6e0"
      },
      "outputs": [],
      "source": [
        "superpatch_idxs = random.sample(\n",
        "    list(nns_dict.keys()),\n",
        "    VIS_N_SUPERPATCHES_TO_SAMPLE\n",
        ")\n",
        "\n",
        "for superpatch_idx in superpatch_idxs:\n",
        "    fig, axs = plt.subplots(\n",
        "        1, VIS_N_SIMILAR+1, figsize=(VIS_N_SIMILAR*3, 5)\n",
        "    )\n",
        "    for ax in axs:\n",
        "        ax.axis('off')\n",
        "\n",
        "    axs[0].imshow(overlay_superpatch_by_index(superpatch_idx))\n",
        "    axs[0].set_title('Sampled superpatch')\n",
        "    for i in range(VIS_N_SIMILAR):\n",
        "        axs[i+1].imshow(overlay_superpatch_by_index(nns_dict[superpatch_idx][i]))\n",
        "        axs[i+1].set_title(f'Most similar {i+1}')\n",
        "    plt.show()\n",
        "    plt.close()"
      ]
    }
  ],
  "metadata": {
    "accelerator": "GPU",
    "colab": {
      "gpuType": "T4",
      "provenance": [],
      "toc_visible": true
    },
    "kernelspec": {
      "display_name": "Python 3",
      "name": "python3"
    },
    "language_info": {
      "codemirror_mode": {
        "name": "ipython",
        "version": 3
      },
      "file_extension": ".py",
      "mimetype": "text/x-python",
      "name": "python",
      "nbconvert_exporter": "python",
      "pygments_lexer": "ipython3",
      "version": "3.10.6"
    },
    "orig_nbformat": 4,
    "widgets": {
      "application/vnd.jupyter.widget-state+json": {
        "1417c9765ca74d55a3ad72e94f56f26d": {
          "model_module": "@jupyter-widgets/controls",
          "model_module_version": "1.5.0",
          "model_name": "DescriptionStyleModel",
          "state": {
            "_model_module": "@jupyter-widgets/controls",
            "_model_module_version": "1.5.0",
            "_model_name": "DescriptionStyleModel",
            "_view_count": null,
            "_view_module": "@jupyter-widgets/base",
            "_view_module_version": "1.2.0",
            "_view_name": "StyleView",
            "description_width": ""
          }
        },
        "18faff5015f147f0bb488da4a9813d5e": {
          "model_module": "@jupyter-widgets/controls",
          "model_module_version": "1.5.0",
          "model_name": "HTMLModel",
          "state": {
            "_dom_classes": [],
            "_model_module": "@jupyter-widgets/controls",
            "_model_module_version": "1.5.0",
            "_model_name": "HTMLModel",
            "_view_count": null,
            "_view_module": "@jupyter-widgets/controls",
            "_view_module_version": "1.5.0",
            "_view_name": "HTMLView",
            "description": "",
            "description_tooltip": null,
            "layout": "IPY_MODEL_675d6f964a0541c8a6cb958f73d1d254",
            "placeholder": "​",
            "style": "IPY_MODEL_cb685b189e194d208041115abf4e6a10",
            "value": " 343M/343M [00:08&lt;00:00, 44.3MB/s]"
          }
        },
        "47851ce16f8c4229960e9555e03f37f9": {
          "model_module": "@jupyter-widgets/base",
          "model_module_version": "1.2.0",
          "model_name": "LayoutModel",
          "state": {
            "_model_module": "@jupyter-widgets/base",
            "_model_module_version": "1.2.0",
            "_model_name": "LayoutModel",
            "_view_count": null,
            "_view_module": "@jupyter-widgets/base",
            "_view_module_version": "1.2.0",
            "_view_name": "LayoutView",
            "align_content": null,
            "align_items": null,
            "align_self": null,
            "border": null,
            "bottom": null,
            "display": null,
            "flex": null,
            "flex_flow": null,
            "grid_area": null,
            "grid_auto_columns": null,
            "grid_auto_flow": null,
            "grid_auto_rows": null,
            "grid_column": null,
            "grid_gap": null,
            "grid_row": null,
            "grid_template_areas": null,
            "grid_template_columns": null,
            "grid_template_rows": null,
            "height": null,
            "justify_content": null,
            "justify_items": null,
            "left": null,
            "margin": null,
            "max_height": null,
            "max_width": null,
            "min_height": null,
            "min_width": null,
            "object_fit": null,
            "object_position": null,
            "order": null,
            "overflow": null,
            "overflow_x": null,
            "overflow_y": null,
            "padding": null,
            "right": null,
            "top": null,
            "visibility": null,
            "width": null
          }
        },
        "5ace18d235c5447c986f3e8c4aa05436": {
          "model_module": "@jupyter-widgets/base",
          "model_module_version": "1.2.0",
          "model_name": "LayoutModel",
          "state": {
            "_model_module": "@jupyter-widgets/base",
            "_model_module_version": "1.2.0",
            "_model_name": "LayoutModel",
            "_view_count": null,
            "_view_module": "@jupyter-widgets/base",
            "_view_module_version": "1.2.0",
            "_view_name": "LayoutView",
            "align_content": null,
            "align_items": null,
            "align_self": null,
            "border": null,
            "bottom": null,
            "display": null,
            "flex": null,
            "flex_flow": null,
            "grid_area": null,
            "grid_auto_columns": null,
            "grid_auto_flow": null,
            "grid_auto_rows": null,
            "grid_column": null,
            "grid_gap": null,
            "grid_row": null,
            "grid_template_areas": null,
            "grid_template_columns": null,
            "grid_template_rows": null,
            "height": null,
            "justify_content": null,
            "justify_items": null,
            "left": null,
            "margin": null,
            "max_height": null,
            "max_width": null,
            "min_height": null,
            "min_width": null,
            "object_fit": null,
            "object_position": null,
            "order": null,
            "overflow": null,
            "overflow_x": null,
            "overflow_y": null,
            "padding": null,
            "right": null,
            "top": null,
            "visibility": null,
            "width": null
          }
        },
        "675d6f964a0541c8a6cb958f73d1d254": {
          "model_module": "@jupyter-widgets/base",
          "model_module_version": "1.2.0",
          "model_name": "LayoutModel",
          "state": {
            "_model_module": "@jupyter-widgets/base",
            "_model_module_version": "1.2.0",
            "_model_name": "LayoutModel",
            "_view_count": null,
            "_view_module": "@jupyter-widgets/base",
            "_view_module_version": "1.2.0",
            "_view_name": "LayoutView",
            "align_content": null,
            "align_items": null,
            "align_self": null,
            "border": null,
            "bottom": null,
            "display": null,
            "flex": null,
            "flex_flow": null,
            "grid_area": null,
            "grid_auto_columns": null,
            "grid_auto_flow": null,
            "grid_auto_rows": null,
            "grid_column": null,
            "grid_gap": null,
            "grid_row": null,
            "grid_template_areas": null,
            "grid_template_columns": null,
            "grid_template_rows": null,
            "height": null,
            "justify_content": null,
            "justify_items": null,
            "left": null,
            "margin": null,
            "max_height": null,
            "max_width": null,
            "min_height": null,
            "min_width": null,
            "object_fit": null,
            "object_position": null,
            "order": null,
            "overflow": null,
            "overflow_x": null,
            "overflow_y": null,
            "padding": null,
            "right": null,
            "top": null,
            "visibility": null,
            "width": null
          }
        },
        "bd4c759ecd594e6b94eee7bb74219cfe": {
          "model_module": "@jupyter-widgets/base",
          "model_module_version": "1.2.0",
          "model_name": "LayoutModel",
          "state": {
            "_model_module": "@jupyter-widgets/base",
            "_model_module_version": "1.2.0",
            "_model_name": "LayoutModel",
            "_view_count": null,
            "_view_module": "@jupyter-widgets/base",
            "_view_module_version": "1.2.0",
            "_view_name": "LayoutView",
            "align_content": null,
            "align_items": null,
            "align_self": null,
            "border": null,
            "bottom": null,
            "display": null,
            "flex": null,
            "flex_flow": null,
            "grid_area": null,
            "grid_auto_columns": null,
            "grid_auto_flow": null,
            "grid_auto_rows": null,
            "grid_column": null,
            "grid_gap": null,
            "grid_row": null,
            "grid_template_areas": null,
            "grid_template_columns": null,
            "grid_template_rows": null,
            "height": null,
            "justify_content": null,
            "justify_items": null,
            "left": null,
            "margin": null,
            "max_height": null,
            "max_width": null,
            "min_height": null,
            "min_width": null,
            "object_fit": null,
            "object_position": null,
            "order": null,
            "overflow": null,
            "overflow_x": null,
            "overflow_y": null,
            "padding": null,
            "right": null,
            "top": null,
            "visibility": null,
            "width": null
          }
        },
        "c4fcbbc1019b442fa6aa00a44e78fad1": {
          "model_module": "@jupyter-widgets/controls",
          "model_module_version": "1.5.0",
          "model_name": "ProgressStyleModel",
          "state": {
            "_model_module": "@jupyter-widgets/controls",
            "_model_module_version": "1.5.0",
            "_model_name": "ProgressStyleModel",
            "_view_count": null,
            "_view_module": "@jupyter-widgets/base",
            "_view_module_version": "1.2.0",
            "_view_name": "StyleView",
            "bar_color": null,
            "description_width": ""
          }
        },
        "cb685b189e194d208041115abf4e6a10": {
          "model_module": "@jupyter-widgets/controls",
          "model_module_version": "1.5.0",
          "model_name": "DescriptionStyleModel",
          "state": {
            "_model_module": "@jupyter-widgets/controls",
            "_model_module_version": "1.5.0",
            "_model_name": "DescriptionStyleModel",
            "_view_count": null,
            "_view_module": "@jupyter-widgets/base",
            "_view_module_version": "1.2.0",
            "_view_name": "StyleView",
            "description_width": ""
          }
        },
        "d764265cfdf34bf8affa2c202e2500f5": {
          "model_module": "@jupyter-widgets/controls",
          "model_module_version": "1.5.0",
          "model_name": "FloatProgressModel",
          "state": {
            "_dom_classes": [],
            "_model_module": "@jupyter-widgets/controls",
            "_model_module_version": "1.5.0",
            "_model_name": "FloatProgressModel",
            "_view_count": null,
            "_view_module": "@jupyter-widgets/controls",
            "_view_module_version": "1.5.0",
            "_view_name": "ProgressView",
            "bar_style": "success",
            "description": "",
            "description_tooltip": null,
            "layout": "IPY_MODEL_bd4c759ecd594e6b94eee7bb74219cfe",
            "max": 343208550,
            "min": 0,
            "orientation": "horizontal",
            "style": "IPY_MODEL_c4fcbbc1019b442fa6aa00a44e78fad1",
            "value": 343208550
          }
        },
        "e4fa450fe6c64671a6fc8adfe4c9bf7d": {
          "model_module": "@jupyter-widgets/controls",
          "model_module_version": "1.5.0",
          "model_name": "HTMLModel",
          "state": {
            "_dom_classes": [],
            "_model_module": "@jupyter-widgets/controls",
            "_model_module_version": "1.5.0",
            "_model_name": "HTMLModel",
            "_view_count": null,
            "_view_module": "@jupyter-widgets/controls",
            "_view_module_version": "1.5.0",
            "_view_name": "HTMLView",
            "description": "",
            "description_tooltip": null,
            "layout": "IPY_MODEL_47851ce16f8c4229960e9555e03f37f9",
            "placeholder": "​",
            "style": "IPY_MODEL_1417c9765ca74d55a3ad72e94f56f26d",
            "value": "model.safetensors: 100%"
          }
        },
        "f7cac94876cd40efb356b7c899ad5ef5": {
          "model_module": "@jupyter-widgets/controls",
          "model_module_version": "1.5.0",
          "model_name": "HBoxModel",
          "state": {
            "_dom_classes": [],
            "_model_module": "@jupyter-widgets/controls",
            "_model_module_version": "1.5.0",
            "_model_name": "HBoxModel",
            "_view_count": null,
            "_view_module": "@jupyter-widgets/controls",
            "_view_module_version": "1.5.0",
            "_view_name": "HBoxView",
            "box_style": "",
            "children": [
              "IPY_MODEL_e4fa450fe6c64671a6fc8adfe4c9bf7d",
              "IPY_MODEL_d764265cfdf34bf8affa2c202e2500f5",
              "IPY_MODEL_18faff5015f147f0bb488da4a9813d5e"
            ],
            "layout": "IPY_MODEL_5ace18d235c5447c986f3e8c4aa05436"
          }
        }
      }
    }
  },
  "nbformat": 4,
  "nbformat_minor": 0
}
